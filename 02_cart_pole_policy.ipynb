{
 "cells": [
  {
   "cell_type": "code",
   "execution_count": 1,
   "metadata": {},
   "outputs": [
    {
     "name": "stdout",
     "output_type": "stream",
     "text": [
      "Iteration 0 - previous 100 average score was 17.0.\n",
      "Iteration 100 - previous 100 average score was 32.81.\n",
      "Iteration 200 - previous 100 average score was 152.96.\n",
      "Cart pole solved in 157 trials:    The average score 200.0\n"
     ]
    }
   ],
   "source": [
    "from collections import deque\n",
    "import gym; import math; import numpy as np\n",
    "def doCalc():\n",
    "    def getAction(): return env.action_space.sample() if (np.random.random() <= epsilon) else np.argmax(Q[current_state])\n",
    "    def uQ(): Q[current_state][a] += epsilon * (reward + 1.0 * np.max(Q[new_state]) - Q[current_state][a])\n",
    "    def getState(s1):\n",
    "        ub = [env.observation_space.high[0], 0.5, env.observation_space.high[2], math.radians(50)]\n",
    "        lb = [env.observation_space.low[0], -0.5, env.observation_space.low[2], -math.radians(50)]\n",
    "        ratios = [(s1[i] + abs(lb[i])) / (ub[i] - lb[i]) for i in range(len(s1))]\n",
    "        stu = [int(round((b[i] - 1) * ratios[i])) for i in range(len(s1))]\n",
    "        news = tuple([min(b[i] - 1, max(0, stu[i])) for i in range(len(s1))])\n",
    "        return news\n",
    "    env = gym.make('CartPole-v0')\n",
    "    b,win_score,scores = (1, 1, 6, 12),200,deque(maxlen=100)\n",
    "    Q = np.zeros(b+(env.action_space.n,))\n",
    "    \n",
    "    for k in range(1000):\n",
    "        current_state, epsilon = getState(env.reset()), max(0.1, min(1.0, 1.0 - math.log10((k + 1) / 25)))\n",
    "        done, i = False, 0\n",
    "        while done == False:\n",
    "            # env.render()\n",
    "            a = getAction()\n",
    "            s1, reward, done, _ = env.step(a); new_state = getState(s1); uQ(); i += 1; current_state = new_state\n",
    "        scores.append(i)\n",
    "        mean_score = np.mean(scores)\n",
    "        if mean_score >= win_score and k >= 100: print('Cart pole solved in {} trials:    The average score {}'.format(k - 100, mean_score)); return\n",
    "        if k % 100 == 0: print('Iteration {} - previous 100 average score was {}.'.format(k, mean_score))\n",
    "\n",
    "doCalc()"
   ]
  },
  {
   "cell_type": "code",
   "execution_count": null,
   "metadata": {},
   "outputs": [],
   "source": []
  }
 ],
 "metadata": {
  "kernelspec": {
   "display_name": "Python 3",
   "language": "python",
   "name": "python3"
  },
  "language_info": {
   "codemirror_mode": {
    "name": "ipython",
    "version": 3
   },
   "file_extension": ".py",
   "mimetype": "text/x-python",
   "name": "python",
   "nbconvert_exporter": "python",
   "pygments_lexer": "ipython3",
   "version": "3.7.1"
  }
 },
 "nbformat": 4,
 "nbformat_minor": 2
}
